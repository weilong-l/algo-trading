{
 "cells": [
  {
   "cell_type": "code",
   "execution_count": 6,
   "metadata": {
    "collapsed": true
   },
   "outputs": [],
   "source": [
    "import getdata as gd\n",
    "import pandas as pd\n",
    "import numpy as np\n",
    "%matplotlib inline  "
   ]
  },
  {
   "cell_type": "code",
   "execution_count": 2,
   "metadata": {},
   "outputs": [
    {
     "data": {
      "text/html": [
       "<div>\n",
       "<style>\n",
       "    .dataframe thead tr:only-child th {\n",
       "        text-align: right;\n",
       "    }\n",
       "\n",
       "    .dataframe thead th {\n",
       "        text-align: left;\n",
       "    }\n",
       "\n",
       "    .dataframe tbody tr th {\n",
       "        vertical-align: top;\n",
       "    }\n",
       "</style>\n",
       "<table border=\"1\" class=\"dataframe\">\n",
       "  <thead>\n",
       "    <tr style=\"text-align: right;\">\n",
       "      <th></th>\n",
       "      <th>Adj_Close</th>\n",
       "      <th>Close</th>\n",
       "      <th>Date</th>\n",
       "      <th>High</th>\n",
       "      <th>Low</th>\n",
       "      <th>Open</th>\n",
       "      <th>Symbol</th>\n",
       "      <th>Volume</th>\n",
       "    </tr>\n",
       "  </thead>\n",
       "  <tbody>\n",
       "    <tr>\n",
       "      <th>333</th>\n",
       "      <td>74.985894</td>\n",
       "      <td>75.699997</td>\n",
       "      <td>2016-01-04</td>\n",
       "      <td>76.379997</td>\n",
       "      <td>75.010002</td>\n",
       "      <td>76.059998</td>\n",
       "      <td>V</td>\n",
       "      <td>13476800</td>\n",
       "    </tr>\n",
       "    <tr>\n",
       "      <th>332</th>\n",
       "      <td>75.550517</td>\n",
       "      <td>76.269997</td>\n",
       "      <td>2016-01-05</td>\n",
       "      <td>76.510002</td>\n",
       "      <td>75.540001</td>\n",
       "      <td>76.250000</td>\n",
       "      <td>V</td>\n",
       "      <td>8972700</td>\n",
       "    </tr>\n",
       "    <tr>\n",
       "      <th>331</th>\n",
       "      <td>74.559950</td>\n",
       "      <td>75.269997</td>\n",
       "      <td>2016-01-06</td>\n",
       "      <td>75.849998</td>\n",
       "      <td>74.849998</td>\n",
       "      <td>75.000000</td>\n",
       "      <td>V</td>\n",
       "      <td>16092000</td>\n",
       "    </tr>\n",
       "    <tr>\n",
       "      <th>330</th>\n",
       "      <td>73.093916</td>\n",
       "      <td>73.790001</td>\n",
       "      <td>2016-01-07</td>\n",
       "      <td>75.089996</td>\n",
       "      <td>73.349998</td>\n",
       "      <td>73.760002</td>\n",
       "      <td>V</td>\n",
       "      <td>12470800</td>\n",
       "    </tr>\n",
       "    <tr>\n",
       "      <th>329</th>\n",
       "      <td>72.192496</td>\n",
       "      <td>72.879997</td>\n",
       "      <td>2016-01-08</td>\n",
       "      <td>74.510002</td>\n",
       "      <td>72.750000</td>\n",
       "      <td>74.059998</td>\n",
       "      <td>V</td>\n",
       "      <td>9977600</td>\n",
       "    </tr>\n",
       "  </tbody>\n",
       "</table>\n",
       "</div>"
      ],
      "text/plain": [
       "     Adj_Close      Close       Date       High        Low       Open Symbol  \\\n",
       "333  74.985894  75.699997 2016-01-04  76.379997  75.010002  76.059998      V   \n",
       "332  75.550517  76.269997 2016-01-05  76.510002  75.540001  76.250000      V   \n",
       "331  74.559950  75.269997 2016-01-06  75.849998  74.849998  75.000000      V   \n",
       "330  73.093916  73.790001 2016-01-07  75.089996  73.349998  73.760002      V   \n",
       "329  72.192496  72.879997 2016-01-08  74.510002  72.750000  74.059998      V   \n",
       "\n",
       "       Volume  \n",
       "333  13476800  \n",
       "332   8972700  \n",
       "331  16092000  \n",
       "330  12470800  \n",
       "329   9977600  "
      ]
     },
     "execution_count": 2,
     "metadata": {},
     "output_type": "execute_result"
    }
   ],
   "source": [
    "v = gd.get_historical('V', '2016-01-01', '2017-05-01')\n",
    "v.head()"
   ]
  },
  {
   "cell_type": "code",
   "execution_count": 3,
   "metadata": {
    "collapsed": true
   },
   "outputs": [],
   "source": [
    "ts = list(v['Close'].values)"
   ]
  },
  {
   "cell_type": "code",
   "execution_count": 4,
   "metadata": {},
   "outputs": [
    {
     "name": "stderr",
     "output_type": "stream",
     "text": [
      "/Users/lweilong/anaconda3/envs/trading/lib/python3.5/site-packages/statsmodels/compat/pandas.py:56: FutureWarning: The pandas.core.datetools module is deprecated and will be removed in a future version. Please use the pandas.tseries module instead.\n",
      "  from pandas.core import datetools\n"
     ]
    }
   ],
   "source": [
    "import statsmodels.tsa.stattools as stat"
   ]
  },
  {
   "cell_type": "markdown",
   "metadata": {},
   "source": [
    "Showned below, adf test value is 0.405, however the 10% critical value is -2.587. Cause 0.405 > -2.587, so this time series is not stationary"
   ]
  },
  {
   "cell_type": "code",
   "execution_count": 5,
   "metadata": {},
   "outputs": [
    {
     "data": {
      "text/plain": [
       "(-0.45075081572246845,\n",
       " 0.90127417203536542,\n",
       " 9,\n",
       " 324,\n",
       " {'1%': -3.4506952633323831,\n",
       "  '10%': -2.5715449066453284,\n",
       "  '5%': -2.8705021892646601},\n",
       " 843.32364756377467)"
      ]
     },
     "execution_count": 5,
     "metadata": {},
     "output_type": "execute_result"
    }
   ],
   "source": [
    "stat.adfuller(ts)"
   ]
  },
  {
   "cell_type": "markdown",
   "metadata": {},
   "source": [
    "# Half-life"
   ]
  },
  {
   "cell_type": "code",
   "execution_count": 6,
   "metadata": {
    "collapsed": true
   },
   "outputs": [],
   "source": [
    "from scipy import stats"
   ]
  },
  {
   "cell_type": "code",
   "execution_count": 7,
   "metadata": {},
   "outputs": [
    {
     "data": {
      "text/html": [
       "<div>\n",
       "<style>\n",
       "    .dataframe thead tr:only-child th {\n",
       "        text-align: right;\n",
       "    }\n",
       "\n",
       "    .dataframe thead th {\n",
       "        text-align: left;\n",
       "    }\n",
       "\n",
       "    .dataframe tbody tr th {\n",
       "        vertical-align: top;\n",
       "    }\n",
       "</style>\n",
       "<table border=\"1\" class=\"dataframe\">\n",
       "  <thead>\n",
       "    <tr style=\"text-align: right;\">\n",
       "      <th></th>\n",
       "      <th>Adj_Close</th>\n",
       "      <th>Close</th>\n",
       "      <th>Date</th>\n",
       "      <th>High</th>\n",
       "      <th>Low</th>\n",
       "      <th>Open</th>\n",
       "      <th>Symbol</th>\n",
       "      <th>Volume</th>\n",
       "    </tr>\n",
       "  </thead>\n",
       "  <tbody>\n",
       "    <tr>\n",
       "      <th>333</th>\n",
       "      <td>NaN</td>\n",
       "      <td>NaN</td>\n",
       "      <td>NaT</td>\n",
       "      <td>NaN</td>\n",
       "      <td>NaN</td>\n",
       "      <td>NaN</td>\n",
       "      <td>NaN</td>\n",
       "      <td>NaN</td>\n",
       "    </tr>\n",
       "    <tr>\n",
       "      <th>332</th>\n",
       "      <td>74.985894</td>\n",
       "      <td>75.699997</td>\n",
       "      <td>2016-01-04</td>\n",
       "      <td>76.379997</td>\n",
       "      <td>75.010002</td>\n",
       "      <td>76.059998</td>\n",
       "      <td>V</td>\n",
       "      <td>13476800.0</td>\n",
       "    </tr>\n",
       "    <tr>\n",
       "      <th>331</th>\n",
       "      <td>75.550517</td>\n",
       "      <td>76.269997</td>\n",
       "      <td>2016-01-05</td>\n",
       "      <td>76.510002</td>\n",
       "      <td>75.540001</td>\n",
       "      <td>76.250000</td>\n",
       "      <td>V</td>\n",
       "      <td>8972700.0</td>\n",
       "    </tr>\n",
       "    <tr>\n",
       "      <th>330</th>\n",
       "      <td>74.559950</td>\n",
       "      <td>75.269997</td>\n",
       "      <td>2016-01-06</td>\n",
       "      <td>75.849998</td>\n",
       "      <td>74.849998</td>\n",
       "      <td>75.000000</td>\n",
       "      <td>V</td>\n",
       "      <td>16092000.0</td>\n",
       "    </tr>\n",
       "    <tr>\n",
       "      <th>329</th>\n",
       "      <td>73.093916</td>\n",
       "      <td>73.790001</td>\n",
       "      <td>2016-01-07</td>\n",
       "      <td>75.089996</td>\n",
       "      <td>73.349998</td>\n",
       "      <td>73.760002</td>\n",
       "      <td>V</td>\n",
       "      <td>12470800.0</td>\n",
       "    </tr>\n",
       "  </tbody>\n",
       "</table>\n",
       "</div>"
      ],
      "text/plain": [
       "     Adj_Close      Close       Date       High        Low       Open Symbol  \\\n",
       "333        NaN        NaN        NaT        NaN        NaN        NaN    NaN   \n",
       "332  74.985894  75.699997 2016-01-04  76.379997  75.010002  76.059998      V   \n",
       "331  75.550517  76.269997 2016-01-05  76.510002  75.540001  76.250000      V   \n",
       "330  74.559950  75.269997 2016-01-06  75.849998  74.849998  75.000000      V   \n",
       "329  73.093916  73.790001 2016-01-07  75.089996  73.349998  73.760002      V   \n",
       "\n",
       "         Volume  \n",
       "333         NaN  \n",
       "332  13476800.0  \n",
       "331   8972700.0  \n",
       "330  16092000.0  \n",
       "329  12470800.0  "
      ]
     },
     "execution_count": 7,
     "metadata": {},
     "output_type": "execute_result"
    }
   ],
   "source": [
    "v_laged = v.shift()\n",
    "v_laged.head()"
   ]
  },
  {
   "cell_type": "code",
   "execution_count": 8,
   "metadata": {
    "collapsed": true
   },
   "outputs": [],
   "source": [
    "delta_y = (v['Close'] - v_laged['Close']).dropna()"
   ]
  },
  {
   "cell_type": "code",
   "execution_count": 9,
   "metadata": {
    "collapsed": true
   },
   "outputs": [],
   "source": [
    "ts_lagged = list(v_laged['Close'].dropna().values)"
   ]
  },
  {
   "cell_type": "code",
   "execution_count": 10,
   "metadata": {
    "collapsed": true
   },
   "outputs": [],
   "source": [
    "slope, intercept, r_value, p_value, std_err = stats.linregress(ts_lagged, delta_y)"
   ]
  },
  {
   "cell_type": "code",
   "execution_count": 11,
   "metadata": {},
   "outputs": [
    {
     "data": {
      "text/plain": [
       "68.142321326354818"
      ]
     },
     "execution_count": 11,
     "metadata": {},
     "output_type": "execute_result"
    }
   ],
   "source": [
    "halflife = -np.log(2)/slope\n",
    "halflife"
   ]
  },
  {
   "cell_type": "markdown",
   "metadata": {
    "collapsed": true
   },
   "source": [
    "# Linear Mean Reversion"
   ]
  },
  {
   "cell_type": "code",
   "execution_count": 21,
   "metadata": {
    "collapsed": true
   },
   "outputs": [],
   "source": [
    "lookback = 68"
   ]
  },
  {
   "cell_type": "code",
   "execution_count": 31,
   "metadata": {
    "collapsed": true
   },
   "outputs": [],
   "source": [
    "rolling = v['Close'].rolling(window=lookback, min_periods=1)\n",
    "rolling_average = rolling.mean()\n",
    "rolling_std = rolling.std()"
   ]
  },
  {
   "cell_type": "code",
   "execution_count": 29,
   "metadata": {},
   "outputs": [
    {
     "data": {
      "text/plain": [
       "<matplotlib.axes._subplots.AxesSubplot at 0x1111b8588>"
      ]
     },
     "execution_count": 29,
     "metadata": {},
     "output_type": "execute_result"
    },
    {
     "data": {
      "image/png": "[encoded data removed]",
      "text/plain": [
       "<matplotlib.figure.Figure at 0x1111b51d0>"
      ]
     },
     "metadata": {},
     "output_type": "display_data"
    }
   ],
   "source": [
    "rolling_average.plot()"
   ]
  },
  {
   "cell_type": "code",
   "execution_count": 32,
   "metadata": {},
   "outputs": [
    {
     "data": {
      "text/plain": [
       "<matplotlib.axes._subplots.AxesSubplot at 0x1113340b8>"
      ]
     },
     "execution_count": 32,
     "metadata": {},
     "output_type": "execute_result"
    },
    {
     "data": {
      "image/png": "[encoded data removed]",
      "text/plain": [
       "<matplotlib.figure.Figure at 0x111335240>"
      ]
     },
     "metadata": {},
     "output_type": "display_data"
    }
   ],
   "source": [
    "rolling_std.plot()"
   ]
  },
  {
   "cell_type": "code",
   "execution_count": 35,
   "metadata": {
    "collapsed": true
   },
   "outputs": [],
   "source": [
    "makVal = - (v['Close'] - rolling_average)/rolling_std"
   ]
  },
  {
   "cell_type": "code",
   "execution_count": 37,
   "metadata": {
    "collapsed": true
   },
   "outputs": [],
   "source": [
    "pnl = makVal.shift().dropna()*delta_y/v_laged['Close']"
   ]
  },
  {
   "cell_type": "code",
   "execution_count": 39,
   "metadata": {},
   "outputs": [
    {
     "data": {
      "text/plain": [
       "<matplotlib.axes._subplots.AxesSubplot at 0x1111d47f0>"
      ]
     },
     "execution_count": 39,
     "metadata": {},
     "output_type": "execute_result"
    },
    {
     "data": {
      "image/png": "[encoded data removed]",
      "text/plain": [
       "<matplotlib.figure.Figure at 0x1111bdf98>"
      ]
     },
     "metadata": {},
     "output_type": "display_data"
    }
   ],
   "source": [
    "pnl.cumsum().plot()"
   ]
  },
  {
   "cell_type": "markdown",
   "metadata": {},
   "source": [
    "# Cointegration"
   ]
  },
  {
   "cell_type": "code",
   "execution_count": 1,
   "metadata": {
    "collapsed": true
   },
   "outputs": [],
   "source": [
    "import datetime\n",
    "import pandas_datareader as pdr"
   ]
  },
  {
   "cell_type": "code",
   "execution_count": 2,
   "metadata": {
    "collapsed": true
   },
   "outputs": [],
   "source": [
    "start = datetime.datetime(2012, 1, 1)\n",
    "end = datetime.datetime(2013, 1, 1)\n",
    "\n",
    "arex = pdr.DataReader(\"AREX\", \"yahoo\", start, end)\n",
    "wll = pdr.DataReader('WLL', 'yahoo', start, end)"
   ]
  },
  {
   "cell_type": "code",
   "execution_count": 8,
   "metadata": {
    "scrolled": true
   },
   "outputs": [
    {
     "data": {
      "text/plain": [
       "[<matplotlib.lines.Line2D at 0x111676b70>]"
      ]
     },
     "execution_count": 8,
     "metadata": {},
     "output_type": "execute_result"
    },
    {
     "data": {
      "image/png": "[encoded data removed]",
      "text/plain": [
       "<matplotlib.figure.Figure at 0x11130de80>"
      ]
     },
     "metadata": {},
     "output_type": "display_data"
    }
   ],
   "source": [
    "ax = arex['Adj Close'].plot()\n",
    "ax.plot(wll['Adj Close'])"
   ]
  },
  {
   "cell_type": "code",
   "execution_count": 16,
   "metadata": {
    "collapsed": true
   },
   "outputs": [],
   "source": [
    "from statsmodels.regression.linear_model import OLS"
   ]
  },
  {
   "cell_type": "code",
   "execution_count": 21,
   "metadata": {},
   "outputs": [
    {
     "data": {
      "text/plain": [
       "0.63328815237532543"
      ]
     },
     "execution_count": 21,
     "metadata": {},
     "output_type": "execute_result"
    }
   ],
   "source": [
    "model = OLS(arex['Adj Close'], wll['Adj Close'])\n",
    "res = model.fit()\n",
    "beta = res.params['Adj Close']\n",
    "beta"
   ]
  },
  {
   "cell_type": "code",
   "execution_count": 22,
   "metadata": {},
   "outputs": [
    {
     "data": {
      "text/plain": [
       "<matplotlib.axes._subplots.AxesSubplot at 0x116abb2e8>"
      ]
     },
     "execution_count": 22,
     "metadata": {},
     "output_type": "execute_result"
    },
    {
     "data": {
      "image/png": "[encoded data removed]",
      "text/plain": [
       "<matplotlib.figure.Figure at 0x116aae278>"
      ]
     },
     "metadata": {},
     "output_type": "display_data"
    }
   ],
   "source": [
    "result = arex['Adj Close'] - beta*wll['Adj Close']\n",
    "result.plot()"
   ]
  },
  {
   "cell_type": "code",
   "execution_count": 23,
   "metadata": {},
   "outputs": [
    {
     "name": "stdout",
     "output_type": "stream",
     "text": [
      "(-2.6310230152629441,\n",
      " 0.08675343877590741,\n",
      " 0,\n",
      " 249,\n",
      " {'1%': -3.4568881317725864,\n",
      "  '10%': -2.5729936189738876,\n",
      "  '5%': -2.8732185133016057},\n",
      " 467.04137180757959)\n"
     ]
    }
   ],
   "source": [
    "import pprint\n",
    "import statsmodels.tsa.stattools as ts\n",
    "cadf = ts.adfuller(result)\n",
    "pprint.pprint(cadf)"
   ]
  }
 ],
 "metadata": {
  "kernelspec": {
   "display_name": "Python [conda env:trading]",
   "language": "python",
   "name": "conda-env-trading-py"
  },
  "language_info": {
   "codemirror_mode": {
    "name": "ipython",
    "version": 3
   },
   "file_extension": ".py",
   "mimetype": "text/x-python",
   "name": "python",
   "nbconvert_exporter": "python",
   "pygments_lexer": "ipython3",
   "version": "3.5.3"
  }
 },
 "nbformat": 4,
 "nbformat_minor": 2
}
